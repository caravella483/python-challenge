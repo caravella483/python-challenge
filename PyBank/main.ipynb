{
 "cells": [
  {
   "cell_type": "code",
   "execution_count": 6,
   "metadata": {},
   "outputs": [
    {
     "name": "stdout",
     "output_type": "stream",
     "text": [
      "Financial Analysis\n",
      "---------------------------\n",
      "Total Months: 86\n",
      "Total: $38382578\n",
      "Average Change: $-2315.12\n",
      "Greatest Increase in Profits:, Feb-12, ($1926159)\n",
      "Greatest Decrease in Profits:, Sep-13, ($-2196167)\n"
     ]
    }
   ],
   "source": [
    "# Imports\n",
    "import os\n",
    "import csv\n",
    "\n",
    "# Variables\n",
    "total_months = 0\n",
    "net_amount = 0\n",
    "monthly_change = []\n",
    "month_count = []\n",
    "greatest_increase = 0\n",
    "greatest_increase_month = 0\n",
    "greatest_decrease = 0\n",
    "greatest_decrease_month = 0\n",
    "\n",
    "# Set Path For File\n",
    "csvpath = os.path.join(\"budget_data.csv\")\n",
    "\n",
    "# Open & Read CSV File\n",
    "with open(csvpath, newline='') as csvfile:\n",
    "    \n",
    "    # CSV Reader & Delimiter \n",
    "    csvreader = csv.reader(csvfile, delimiter=',')\n",
    "    \n",
    "    # Read The Header Row First \n",
    "    csv_header = next(csvreader)\n",
    "    row = next(csvreader)\n",
    "    \n",
    "    # Calculate # of Months, Net Amount Of \"Profit/Losses\" & Variables For Rows\n",
    "    previous_row = int(row[1])\n",
    "    total_months += 1\n",
    "    net_amount += int(row[1])\n",
    "    greatest_increase = int(row[1])\n",
    "    greatest_increase_month = row[0]\n",
    "    \n",
    "    # Read Each Row Of Data After The Header\n",
    "    for row in csvreader:\n",
    "        \n",
    "        # Calculate Total Number Of Months Included In Dataset\n",
    "        total_months += 1\n",
    "        # Calculate Net Amount Of \"Profit/Losses\" Over The Entire Period\n",
    "        net_amount += int(row[1])\n",
    "\n",
    "        # Calculate Change From Current Month To Previous Month\n",
    "        revenue_change = int(row[1]) - previous_row\n",
    "        monthly_change.append(revenue_change)\n",
    "        previous_row = int(row[1])\n",
    "        month_count.append(row[0])\n",
    "        \n",
    "        # Calculate The Greatest Increase\n",
    "        if int(row[1]) > greatest_increase:\n",
    "            greatest_increase = int(row[1])\n",
    "            greatest_increase_month = row[0]\n",
    "            \n",
    "        # Calculate The Greatest Decrease\n",
    "        if int(row[1]) < greatest_decrease:\n",
    "            greatest_decrease = int(row[1])\n",
    "            greatest_decrease_month = row[0]  \n",
    "        \n",
    "    # Calculate The Average & The Date\n",
    "    average_change = sum(monthly_change)/ len(monthly_change)\n",
    "    \n",
    "    highest = max(monthly_change)\n",
    "    lowest = min(monthly_change)\n",
    "\n",
    "# Print Analysis\n",
    "print(\"Financial Analysis\")\n",
    "print(\"---------------------------\")\n",
    "print(f\"Total Months: {total_months}\")\n",
    "print(f\"Total: ${net_amount}\")\n",
    "print(f\"Average Change: ${average_change:.2f}\")\n",
    "print(f\"Greatest Increase in Profits:, {greatest_increase_month}, (${highest})\")\n",
    "print(f\"Greatest Decrease in Profits:, {greatest_decrease_month}, (${lowest})\")"
   ]
  },
  {
   "cell_type": "code",
   "execution_count": 7,
   "metadata": {},
   "outputs": [],
   "source": [
    "# Specify File To Write To\n",
    "output_file = os.path.join(\"budget_data_revised.text\")\n",
    "\n",
    "# Open File Using \"Write\" Mode. Specify The Variable To Hold The Contents\n",
    "with open(output_file, 'w',) as txtfile:\n",
    "\n",
    "# Write New Data\n",
    "    txtfile.write(f\"Financial Analysis\\n\")\n",
    "    txtfile.write(f\"---------------------------\\n\")\n",
    "    txtfile.write(f\"Total Months: {total_months}\\n\")\n",
    "    txtfile.write(f\"Total: ${net_amount}\\n\")\n",
    "    txtfile.write(f\"Average Change: ${average_change}\\n\")\n",
    "    txtfile.write(f\"Greatest Increase in Profits:, {greatest_increase_month}, (${highest})\\n\")\n",
    "    txtfile.write(f\"Greatest Decrease in Profits:, {greatest_decrease_month}, (${lowest})\\n\")"
   ]
  },
  {
   "cell_type": "code",
   "execution_count": null,
   "metadata": {},
   "outputs": [],
   "source": []
  }
 ],
 "metadata": {
  "kernelspec": {
   "display_name": "Python 3",
   "language": "python",
   "name": "python3"
  },
  "language_info": {
   "codemirror_mode": {
    "name": "ipython",
    "version": 3
   },
   "file_extension": ".py",
   "mimetype": "text/x-python",
   "name": "python",
   "nbconvert_exporter": "python",
   "pygments_lexer": "ipython3",
   "version": "3.7.4"
  }
 },
 "nbformat": 4,
 "nbformat_minor": 4
}
