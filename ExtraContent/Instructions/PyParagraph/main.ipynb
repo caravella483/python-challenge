{
 "cells": [
  {
   "cell_type": "code",
   "execution_count": 10,
   "metadata": {},
   "outputs": [
    {
     "name": "stdin",
     "output_type": "stream",
     "text": [
      "which file? 2\n"
     ]
    },
    {
     "name": "stdout",
     "output_type": "stream",
     "text": [
      "Paragraph Analysis\n",
      "-----------------\n",
      "Approximate Word Count: 276\n",
      "Approximate Sentence Count: 11\n",
      "Average Letter Count: 5.155797101449275\n",
      "Average Sentence Length: 25.09090909090909\n"
     ]
    }
   ],
   "source": [
    "import os\n",
    "import string\n",
    "\n",
    "#choose file_number (1 or 2)\n",
    "file_num = str(input(\"which file?\"))\n",
    "\n",
    "#sets file\n",
    "file = os.path.join(\"raw_data\",\"paragraph_\"+file_num+\".txt\")\n",
    "\n",
    "# open and reads file and saves text as paragraph string?\n",
    "paragraph_str = ''\n",
    "with open(file, 'r') as txtfile:\n",
    "    paragraph_str = txtfile.read()\n",
    "#sentence count by counting ., ? and !\n",
    "sen_count = paragraph_str.count('.') + paragraph_str.count('?') + paragraph_str.count('!')\n",
    "\n",
    "#creates a string of upper and lowercase letters\n",
    "letters = string.ascii_letters + \" \" \n",
    "\n",
    "#loops through paragraph string and deletes all characters \n",
    "# that are not letters replacing with nothing\n",
    "for c in paragraph_str:\n",
    "    if c not in letters:\n",
    "        paragraph_str = paragraph_str.replace(c,'')\n",
    "\n",
    "\n",
    "#reassigns the paragraph string and makes a list of words by splitting at spaces\n",
    "paragraph_list = paragraph_str.split(\" \")\n",
    "\n",
    "#counts all of the letters in list paragraph\n",
    "letter_total = 0\n",
    "for word in paragraph_list:\n",
    "    letter_total += len(word)\n",
    "#counts words by counting the length of paragraph list\n",
    "word_count = len(paragraph_list)\n",
    "\n",
    "#calculates average word length by dividing the total # of letters\n",
    "#by the number of words\n",
    "avg_word_length = letter_total/word_count\n",
    "\n",
    "# calculates words per sentence by dividing the number of words by the number of sentences.\n",
    "words_per_sentence = word_count/sen_count\n",
    "#prints to page\n",
    "print(\"Paragraph Analysis\")\n",
    "print(\"-----------------\")\n",
    "print(f\"Approximate Word Count: {word_count}\")\n",
    "print(f\"Approximate Sentence Count: {sen_count}\")\n",
    "print(f\"Average Letter Count: {avg_word_length}\")\n",
    "print(f\"Average Sentence Length: {words_per_sentence}\")\n",
    "\n",
    "#####################################################\n",
    "#sets output file \n",
    "output_file = os.path.join(\"Output\"+file_num+\".txt\")\n",
    "\n",
    "# opens output file and writes to it\n",
    "with open(output_file, 'w') as txtfile:\n",
    "    txtfile.writelines(\"Paragraph Analysis\\n-----------------\\nApproximate Word Count: \"\n",
    "                       + str(word_count) + \"\\nApproximate Sentence Count: \"\n",
    "                       + str(sen_count) +  \"\\nAverage Letter Count: \"\n",
    "                       + str(avg_word_length) + \"\\nAverage Sentence Length: \"\n",
    "                       + str(words_per_sentence))\n",
    "    "
   ]
  },
  {
   "cell_type": "code",
   "execution_count": null,
   "metadata": {},
   "outputs": [],
   "source": []
  },
  {
   "cell_type": "code",
   "execution_count": null,
   "metadata": {},
   "outputs": [],
   "source": []
  },
  {
   "cell_type": "code",
   "execution_count": null,
   "metadata": {},
   "outputs": [],
   "source": []
  }
 ],
 "metadata": {
  "kernelspec": {
   "display_name": "Python 3",
   "language": "python",
   "name": "python3"
  },
  "language_info": {
   "codemirror_mode": {
    "name": "ipython",
    "version": 3
   },
   "file_extension": ".py",
   "mimetype": "text/x-python",
   "name": "python",
   "nbconvert_exporter": "python",
   "pygments_lexer": "ipython3",
   "version": "3.7.4"
  }
 },
 "nbformat": 4,
 "nbformat_minor": 4
}
